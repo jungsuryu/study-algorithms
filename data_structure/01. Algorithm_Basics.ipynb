{
 "cells": [
  {
   "cell_type": "markdown",
   "id": "b578a8bf",
   "metadata": {},
   "source": [
    "### 알고리즘이란?"
   ]
  },
  {
   "cell_type": "markdown",
   "id": "eea1111a",
   "metadata": {},
   "source": [
    "#### 세 정수의 최댓값 구하기\n",
    "- 순차구조(Sequential Structure): 한 문장씩 순서대로 처리되는 구조\n",
    "- 선택구조(Select Structure): 조건식으로 평가한 결과에 따라 프로그램의 실행 흐름이 변경되는 구조"
   ]
  },
  {
   "cell_type": "code",
   "execution_count": 1,
   "id": "5cfb1c36",
   "metadata": {},
   "outputs": [
    {
     "name": "stdout",
     "output_type": "stream",
     "text": [
      "세 정수의 최댓값을 구합니다\n",
      "정수 a의 값을 입력하세요.: 1\n",
      "정수 b의 값을 입력하세요.: 3\n",
      "정수 c의 값을 입력하세요.: 2\n",
      "최댓값은 3입니다.\n"
     ]
    }
   ],
   "source": [
    "# 세 정수를 입력받아 최댓값 구하기\n",
    "\n",
    "print('세 정수의 최댓값을 구합니다')\n",
    "a = int(input('정수 a의 값을 입력하세요.: '))\n",
    "b = int(input('정수 b의 값을 입력하세요.: '))\n",
    "c = int(input('정수 c의 값을 입력하세요.: '))\n",
    "\n",
    "maximum = a\n",
    "if b > maximum:\n",
    "    maximum = b\n",
    "if c > maximum:\n",
    "    maximum = c\n",
    "    \n",
    "print(f'최댓값은 {maximum}입니다.')"
   ]
  },
  {
   "cell_type": "markdown",
   "id": "c7c1adea",
   "metadata": {},
   "source": [
    "#### 문자열과 숫자 입력받기"
   ]
  },
  {
   "cell_type": "code",
   "execution_count": 2,
   "id": "04a10960",
   "metadata": {},
   "outputs": [
    {
     "name": "stdout",
     "output_type": "stream",
     "text": [
      "이름을 입력하세요.: 가나다\n",
      "안녕하세요? 가나다님\n"
     ]
    }
   ],
   "source": [
    "# 이름을 입력받아 인사하기\n",
    "\n",
    "# print('이름을 입력하세요.: ', end='')\n",
    "# name = input() # 문자열\n",
    "# print(f'안녕하세요? {name}님')\n",
    "\n",
    "name = input('이름을 입력하세요: ')\n",
    "print(f'안녕하세요? {name}님')"
   ]
  },
  {
   "cell_type": "markdown",
   "id": "2e14a62f",
   "metadata": {},
   "source": [
    "#### 세 정수의 중앙값 구하기"
   ]
  },
  {
   "cell_type": "code",
   "execution_count": 4,
   "id": "9f617595",
   "metadata": {},
   "outputs": [
    {
     "name": "stdout",
     "output_type": "stream",
     "text": [
      "세 정수의 중앙값을 구합니다\n",
      "정수 a의 값을 입력하세요.: 1\n",
      "정수 b의 값을 입력하세요.: 3\n",
      "정수 c의 값을 입력하세요.: 2\n",
      "중앙값은 2입니다.\n"
     ]
    }
   ],
   "source": [
    "# 세 정수를 입력받아 중앙값 구하기 1\n",
    "\n",
    "def med3(a, b, c):\n",
    "    \"\"\"a, b, c의 중앙값을 구하여 반환\"\"\"\n",
    "    if a >= b:\n",
    "        if b >= c:\n",
    "            return b\n",
    "        elif a <= c:\n",
    "            return a\n",
    "        else:\n",
    "            return c\n",
    "    elif a > c:\n",
    "        return a\n",
    "    elif b > c:\n",
    "        return c\n",
    "    else:\n",
    "        return b\n",
    "    \n",
    "print('세 정수의 중앙값을 구합니다')\n",
    "a = int(input('정수 a의 값을 입력하세요.: '))\n",
    "b = int(input('정수 b의 값을 입력하세요.: '))\n",
    "c = int(input('정수 c의 값을 입력하세요.: '))\n",
    "\n",
    "print(f'중앙값은 {med3(a, b, c)}입니다.')"
   ]
  },
  {
   "cell_type": "code",
   "execution_count": 5,
   "id": "afa32ab2",
   "metadata": {},
   "outputs": [],
   "source": [
    "# 세 정수를 입력받아 중앙값 구하기 2\n",
    "\n",
    "def med3(a, b, c):\n",
    "    \"\"\"a, b, c의 중앙값을 구하여 반환 (다른 방법)\"\"\"\n",
    "    if (b >= a and c <= a) or (b <= a and c >= a):\n",
    "        return a\n",
    "    elif (a > b and c < b) or (a < b and c > b):\n",
    "        return b\n",
    "    return c\n",
    "\n",
    "# => a와 b의 비교 이미 끝난 상태에서 다시 비교하는 것 효율적이지 않음"
   ]
  },
  {
   "cell_type": "markdown",
   "id": "a3374adb",
   "metadata": {},
   "source": [
    "### 조건문과 분기\n",
    "- 분기(branching): 프로그램의 실행 흐름을 다른 곳으로 변경하는 명령"
   ]
  },
  {
   "cell_type": "code",
   "execution_count": 6,
   "id": "fd2e8434",
   "metadata": {},
   "outputs": [
    {
     "name": "stdout",
     "output_type": "stream",
     "text": [
      "정수를 입력하세요,: 17\n",
      "이 수는 양수입니다.\n"
     ]
    }
   ],
   "source": [
    "# 입력받은 정수의 부호 (양수, 음수, 0) 출력하기\n",
    "\n",
    "n = int(input('정수를 입력하세요,: '))\n",
    "\n",
    "if n > 0:\n",
    "    print('이 수는 양수입니다.')\n",
    "elif n < 0:\n",
    "    print('이 수는 음수입니다.')\n",
    "else:\n",
    "    print('이 수는 0입니다.')"
   ]
  },
  {
   "cell_type": "code",
   "execution_count": 9,
   "id": "9c1ccac5",
   "metadata": {},
   "outputs": [
    {
     "name": "stdout",
     "output_type": "stream",
     "text": [
      "정수를 입력하세요.: 4\n",
      "C\n"
     ]
    }
   ],
   "source": [
    "# 3개로 분기하는 조건문\n",
    "\n",
    "n = int(input('정수를 입력하세요.: '))\n",
    "\n",
    "if n == 1:\n",
    "    print('A')\n",
    "elif n == 2:\n",
    "    print('B')\n",
    "else:\n",
    "    print('C')"
   ]
  },
  {
   "cell_type": "code",
   "execution_count": 10,
   "id": "8a2d73cb",
   "metadata": {},
   "outputs": [
    {
     "name": "stdout",
     "output_type": "stream",
     "text": [
      "정수를 입력하세요.: 4\n"
     ]
    }
   ],
   "source": [
    "# 4개로 분기하는 조건문\n",
    "\n",
    "n = int(input('정수를 입력하세요.: '))\n",
    "\n",
    "if n == 1:\n",
    "    print('A')\n",
    "elif n == 2:\n",
    "    print('B')\n",
    "elif n == 3:\n",
    "    print('C')\n",
    "# else:\n",
    "#     pass"
   ]
  },
  {
   "cell_type": "markdown",
   "id": "1e54b650",
   "metadata": {},
   "source": [
    "### 반복하는 알고리즘"
   ]
  },
  {
   "cell_type": "markdown",
   "id": "af3bd521",
   "metadata": {},
   "source": [
    "#### 1부터 n까지 정수의 합 구하기\n",
    "- 반복구조(repetition structure): 어떤 조건이 성립하는 동안 반복해서 처리 (=loop)\n",
    "- while문 실행 전에 반복 계속할 것인지 판단 => 사전판단 반복 구조"
   ]
  },
  {
   "cell_type": "code",
   "execution_count": 1,
   "id": "e47b91d0",
   "metadata": {},
   "outputs": [
    {
     "name": "stdout",
     "output_type": "stream",
     "text": [
      "5\n",
      "1부터 5까지 정수의 합은 15입니다.\n"
     ]
    }
   ],
   "source": [
    "# 1부터 n까지 정수의 합 구하기 1 (while 문)\n",
    "\n",
    "n = int(input())\n",
    "sum = 0\n",
    "i = 1 # 카운터용 변수\n",
    "\n",
    "while i <= n:\n",
    "    sum += i\n",
    "    i += 1\n",
    "\n",
    "print(f'1부터 {n}까지 정수의 합은 {sum}입니다.')"
   ]
  },
  {
   "cell_type": "markdown",
   "id": "9cad1e6a",
   "metadata": {},
   "source": [
    "- 변수가 하나만 있을 때는 while 문보다 for 문을 사용하는 것이 좋음"
   ]
  },
  {
   "cell_type": "code",
   "execution_count": 3,
   "id": "48234daf",
   "metadata": {},
   "outputs": [
    {
     "name": "stdout",
     "output_type": "stream",
     "text": [
      "5\n",
      "1부터 5까지 정수의 합은 15입니다.\n"
     ]
    }
   ],
   "source": [
    "# 1부터 n까지 정수의 합 구하기 2 (for 문)\n",
    "\n",
    "n = int(input())\n",
    "\n",
    "sum = 0\n",
    "for i in range(1, n+1): # range() 함수: 이터러블 객체 생성 (반복할 수 있는 객체)\n",
    "    sum += i\n",
    "    \n",
    "print(f'1부터 {n}까지 정수의 합은 {sum}입니다.')"
   ]
  },
  {
   "cell_type": "code",
   "execution_count": null,
   "id": "26c8bff0",
   "metadata": {},
   "outputs": [],
   "source": [
    "# 가우스 덧셈 (1부터 n까지 정수의 합)\n",
    "sum = n * (n + 1) // 2"
   ]
  },
  {
   "cell_type": "markdown",
   "id": "953d43ec",
   "metadata": {},
   "source": [
    "#### 연속하는 정수의 합을 구하기 위해 값 정렬하기"
   ]
  },
  {
   "cell_type": "code",
   "execution_count": 5,
   "id": "178e0b88",
   "metadata": {},
   "outputs": [
    {
     "name": "stdout",
     "output_type": "stream",
     "text": [
      "a: 3\n",
      "b: 8\n",
      "3부터 8까지 정수의 합은 33입니다.\n"
     ]
    }
   ],
   "source": [
    "# a부터 b까지 정수의 합 구하기 (for 문)\n",
    "\n",
    "a = int(input('a: '))\n",
    "b = int(input('b: '))\n",
    "\n",
    "if a > b:\n",
    "    a, b = b, a # a와 b를 오름차순으로 정렬\n",
    "\n",
    "sum = 0\n",
    "for i in range(a, b+1):\n",
    "    sum += i\n",
    "\n",
    "\n",
    "print(f'{a}부터 {b}까지 정수의 합은 {sum}입니다.')"
   ]
  },
  {
   "cell_type": "markdown",
   "id": "d36a6303",
   "metadata": {},
   "source": [
    "#### 반복 과정에서 조건 판단하기 1"
   ]
  },
  {
   "cell_type": "code",
   "execution_count": 9,
   "id": "3928d319",
   "metadata": {},
   "outputs": [
    {
     "name": "stdout",
     "output_type": "stream",
     "text": [
      "a: 3\n",
      "b: 7\n",
      "3 + 4 + 5 + 6 + 7 = 25\n"
     ]
    }
   ],
   "source": [
    "# a에서 b까지 정수의 합 구하기 1\n",
    "\n",
    "a = int(input('a: '))\n",
    "b = int(input('b: '))\n",
    "\n",
    "if a > b:\n",
    "    a, b = b, a\n",
    "\n",
    "sum = 0\n",
    "for i in range(a, b+1):\n",
    "    if i < b:\n",
    "        print(f'{i} + ', end='')\n",
    "    else:\n",
    "        print(f'{i} = ', end='')\n",
    "    sum += i\n",
    "    \n",
    "print(sum)"
   ]
  },
  {
   "cell_type": "code",
   "execution_count": 10,
   "id": "ad8fd6bd",
   "metadata": {},
   "outputs": [
    {
     "name": "stdout",
     "output_type": "stream",
     "text": [
      "a: 3\n",
      "b: 7\n",
      "3 + 4 + 5 + 6 + 7 = 25\n"
     ]
    }
   ],
   "source": [
    "# a에서 b까지 정수의 합 구하기 2\n",
    "\n",
    "a = int(input('a: '))\n",
    "b = int(input('b: '))\n",
    "\n",
    "if a > b:\n",
    "    a, b = b, a\n",
    "\n",
    "sum = 0\n",
    "for i in range(a, b):\n",
    "    print(f'{i} + ', end='')\n",
    "    sum += i\n",
    "\n",
    "print(f'{b} = ', end='') # 별도로 두는 것이 더 효율적\n",
    "sum += b\n",
    "\n",
    "print(sum)"
   ]
  },
  {
   "cell_type": "markdown",
   "id": "08ca5282",
   "metadata": {},
   "source": [
    "#### 반복 과정에서 조건 판단하기 2"
   ]
  },
  {
   "cell_type": "code",
   "execution_count": 11,
   "id": "c16ed3b9",
   "metadata": {},
   "outputs": [
    {
     "name": "stdout",
     "output_type": "stream",
     "text": [
      "12\n",
      "+-+-+-+-+-+-\n"
     ]
    }
   ],
   "source": [
    "# +와 -를 번갈아 출력하기 1\n",
    "\n",
    "n = int(input())\n",
    "\n",
    "for i in range(n):\n",
    "    if i % 2:\n",
    "        print('-', end='') # 홀수인 경우 - 출력\n",
    "    else:\n",
    "        print('+', end='') # 짝수인 경우 + 출력\n",
    "        \n",
    "print()"
   ]
  },
  {
   "cell_type": "code",
   "execution_count": 12,
   "id": "f0d3a280",
   "metadata": {},
   "outputs": [
    {
     "name": "stdout",
     "output_type": "stream",
     "text": [
      "12\n",
      "+-+-+-+-+-+-\n"
     ]
    }
   ],
   "source": [
    "# +와 -를 번갈아 출력하기 1 (for 문 수정)\n",
    "\n",
    "n = int(input())\n",
    "\n",
    "for i in range(1, n+1):\n",
    "    if i % 2:\n",
    "        print('+', end='') # 홀수\n",
    "    else:\n",
    "        print('-', end='') # 짝수\n",
    "        \n",
    "print()"
   ]
  },
  {
   "cell_type": "markdown",
   "id": "666a372d",
   "metadata": {},
   "source": [
    "- 더 효율적인 코드 (반복문에서 if문 수행하지 않음)"
   ]
  },
  {
   "cell_type": "code",
   "execution_count": 15,
   "id": "1d9adcc5",
   "metadata": {},
   "outputs": [
    {
     "name": "stdout",
     "output_type": "stream",
     "text": [
      "13\n",
      "+-+-+-+-+-+-+\n"
     ]
    }
   ],
   "source": [
    "# +와 -를 번갈아 출력하기 2\n",
    "\n",
    "n = int(input())\n",
    "\n",
    "for _ in range(n // 2):\n",
    "    print('+-', end='') # +-를 n // 2개의 출력\n",
    "\n",
    "if n % 2:\n",
    "    print('+', end='') # n이 홀수일 때만 + 출력\n",
    "        \n",
    "print()"
   ]
  },
  {
   "cell_type": "markdown",
   "id": "afda2e00",
   "metadata": {},
   "source": [
    "- 카운터용 변수 변경해도 유연하게 대응 가능"
   ]
  },
  {
   "cell_type": "code",
   "execution_count": 17,
   "id": "12dc8bb4",
   "metadata": {},
   "outputs": [
    {
     "name": "stdout",
     "output_type": "stream",
     "text": [
      "13\n",
      "+-+-+-+-+-+-+\n"
     ]
    }
   ],
   "source": [
    "n = int(input())\n",
    "\n",
    "for _ in range(1, n // 2 + 1):\n",
    "    print('+-', end='') # +-를 n // 2개의 출력\n",
    "\n",
    "if n % 2:\n",
    "    print('+', end='') # n이 홀수일 때만 + 출력\n",
    "        \n",
    "print()"
   ]
  },
  {
   "cell_type": "markdown",
   "id": "d55e79e4",
   "metadata": {},
   "source": [
    "#### 반복 과정에서 조건 판단하기 3"
   ]
  },
  {
   "cell_type": "code",
   "execution_count": 18,
   "id": "1ecf7758",
   "metadata": {},
   "outputs": [
    {
     "name": "stdout",
     "output_type": "stream",
     "text": [
      "몇 개 출력?: 14\n",
      "몇 개마다 줄바꿈?: 5\n",
      "*****\n",
      "*****\n",
      "****\n"
     ]
    }
   ],
   "source": [
    "# *를 n개 출력하되 w개마다 줄바꿈하기 1\n",
    "\n",
    "n = int(input('몇 개 출력?: '))\n",
    "w = int(input('몇 개마다 줄바꿈?: '))\n",
    "\n",
    "for i in range(n): # n번 반복\n",
    "    print('*', end='')\n",
    "    if i % w == w - 1: # n번 판단\n",
    "        print() # 줄바꿈\n",
    "    \n",
    "if n % w: # 1번 판단\n",
    "    print() # 줄바꿈"
   ]
  },
  {
   "cell_type": "code",
   "execution_count": 19,
   "id": "27899488",
   "metadata": {},
   "outputs": [
    {
     "name": "stdout",
     "output_type": "stream",
     "text": [
      "몇 개 출력?: 14\n",
      "몇 개마다 줄바꿈?: 5\n",
      "*****\n",
      "*****\n",
      "****\n"
     ]
    }
   ],
   "source": [
    "# *를 n개 출력하되 w개마다 줄바꿈하기 2\n",
    "\n",
    "n = int(input('몇 개 출력?: '))\n",
    "w = int(input('몇 개마다 줄바꿈?: '))\n",
    "\n",
    "for _ in range(n // w): # n // w번 반복\n",
    "    print('*' * w)\n",
    "    \n",
    "rest = n % w\n",
    "if rest:\n",
    "    print('*' * rest)"
   ]
  },
  {
   "cell_type": "markdown",
   "id": "c3767e71",
   "metadata": {},
   "source": [
    "#### 양수만 입력받기"
   ]
  },
  {
   "cell_type": "code",
   "execution_count": 22,
   "id": "1e6ca648",
   "metadata": {},
   "outputs": [
    {
     "name": "stdout",
     "output_type": "stream",
     "text": [
      "-6\n",
      "0\n",
      "10\n",
      "1부터 10까지 정수의 합은 55입니다.\n"
     ]
    }
   ],
   "source": [
    "# 1부터 n까지 정수의 합 구하기 (n값은 양수만 입력받음)\n",
    "\n",
    "while True:\n",
    "    n = int(input())\n",
    "    if n > 0:\n",
    "        break\n",
    "\n",
    "sum = 0\n",
    "i = 1\n",
    "\n",
    "for i in range(1, n+1):\n",
    "    sum += i\n",
    "    \n",
    "print(f'1부터 {n}까지 정수의 합은 {sum}입니다.')"
   ]
  },
  {
   "cell_type": "markdown",
   "id": "631b07fb",
   "metadata": {},
   "source": [
    "#### 직사각형 넓이로 변의 길이 구하기"
   ]
  },
  {
   "cell_type": "code",
   "execution_count": 23,
   "id": "5b602b6a",
   "metadata": {},
   "outputs": [
    {
     "name": "stdout",
     "output_type": "stream",
     "text": [
      "직사각형 넓이: 32\n",
      "1 x 32\n",
      "2 x 16\n",
      "4 x 8\n"
     ]
    }
   ],
   "source": [
    "# 가로, 세로 길이가 정수이고 넓이가 area인 직사각형에서 변의 길이 나열\n",
    "\n",
    "area = int(input('직사각형 넓이: '))\n",
    "\n",
    "for i in range(1, area + 1):\n",
    "    if i * i > area: break\n",
    "    if area % i: continue\n",
    "    print(f'{i} x {area // i}')"
   ]
  },
  {
   "cell_type": "code",
   "execution_count": 24,
   "id": "6448568b",
   "metadata": {},
   "outputs": [
    {
     "name": "stdout",
     "output_type": "stream",
     "text": [
      "난수 개수?: 5\n",
      "50 88 48 76 91 \n",
      "난수 생성을 종료합니다.\n"
     ]
    }
   ],
   "source": [
    "# 10-99 사이의 난수 n개 생성하기 (13 나오면 중단)\n",
    "\n",
    "import random\n",
    "\n",
    "n = int(input('난수 개수?: '))\n",
    "\n",
    "for _ in range(n):\n",
    "    r = random.randint(10, 99)\n",
    "    print(r, end=' ')\n",
    "    if r == 13:\n",
    "        print('\\n프로그램을 중단합니다.')\n",
    "        break\n",
    "else:\n",
    "    print('\\n난수 생성을 종료합니다.')"
   ]
  },
  {
   "cell_type": "markdown",
   "id": "c6182735",
   "metadata": {},
   "source": [
    "#### 반복문 건너뛰기와 여러 범위 스캔하기"
   ]
  },
  {
   "cell_type": "code",
   "execution_count": 3,
   "id": "b2e7e068",
   "metadata": {},
   "outputs": [
    {
     "name": "stdout",
     "output_type": "stream",
     "text": [
      "1 2 3 4 5 6 7 9 10 11 12 \n"
     ]
    }
   ],
   "source": [
    "# 1-12까지 8을 건너뛰고 출력하기 1 (비효율적)\n",
    "\n",
    "for i in range(1, 13):\n",
    "    if i == 8:\n",
    "        continue\n",
    "    print(i, end=' ')\n",
    "\n",
    "print()"
   ]
  },
  {
   "cell_type": "code",
   "execution_count": 4,
   "id": "e0e4be05",
   "metadata": {},
   "outputs": [
    {
     "name": "stdout",
     "output_type": "stream",
     "text": [
      "1 2 3 4 5 6 7 9 10 11 12 \n"
     ]
    }
   ],
   "source": [
    "# 1-12까지 8을 건너뛰고 출력하기 1 (건너뛰는 값을 아는 경우, 효율적)\n",
    "\n",
    "for i in list(range(1, 8)) + list(range(9, 13)):\n",
    "    print(i, end=' ')\n",
    "print()"
   ]
  },
  {
   "cell_type": "markdown",
   "id": "68cc5ae3",
   "metadata": {},
   "source": [
    "#### 비교연산자를 연속으로 사용하는 방법과 드모르간의 법칙"
   ]
  },
  {
   "cell_type": "code",
   "execution_count": 7,
   "id": "1e204c7b",
   "metadata": {},
   "outputs": [
    {
     "name": "stdout",
     "output_type": "stream",
     "text": [
      "146\n",
      "57\n",
      "입력받은 양수는 57입니다.\n"
     ]
    }
   ],
   "source": [
    "# 2자리 양수(10-99) 입력받기\n",
    "\n",
    "while True:\n",
    "    no = int(input())\n",
    "    if no >= 10 and no <= 99:\n",
    "        break\n",
    "        \n",
    "print(f'입력받은 양수는 {no}입니다.')"
   ]
  },
  {
   "cell_type": "markdown",
   "id": "c6708a55",
   "metadata": {},
   "source": [
    "비교연산자를 연속으로 사용"
   ]
  },
  {
   "cell_type": "code",
   "execution_count": 11,
   "id": "30681fee",
   "metadata": {},
   "outputs": [
    {
     "name": "stdout",
     "output_type": "stream",
     "text": [
      "26\n",
      "입력받은 양수는 26입니다.\n"
     ]
    }
   ],
   "source": [
    "while True:\n",
    "    no = int(input())\n",
    "    if 10 <= no <= 99:\n",
    "        break\n",
    "        \n",
    "print(f'입력받은 양수는 {no}입니다.')"
   ]
  },
  {
   "cell_type": "markdown",
   "id": "97324eba",
   "metadata": {},
   "source": [
    "드모르간의 법칙 사용\n",
    "- x and y 와 not(not x or not y)의 논릿값은 같다\n",
    "- x or y 와 not(not x and not y)의 논릿값은 같다"
   ]
  },
  {
   "cell_type": "code",
   "execution_count": 13,
   "id": "008d2724",
   "metadata": {},
   "outputs": [
    {
     "name": "stdout",
     "output_type": "stream",
     "text": [
      "45\n",
      "입력받은 양수는 45입니다.\n"
     ]
    }
   ],
   "source": [
    "while True:\n",
    "    no = int(input())\n",
    "    if not (no < 10 or no > 99):\n",
    "        break\n",
    "        \n",
    "print(f'입력받은 양수는 {no}입니다.')"
   ]
  },
  {
   "cell_type": "markdown",
   "id": "5b6b76e3",
   "metadata": {},
   "source": [
    "#### 다중루프 알아보기"
   ]
  },
  {
   "cell_type": "code",
   "execution_count": 14,
   "id": "bb03cb58",
   "metadata": {},
   "outputs": [
    {
     "name": "stdout",
     "output_type": "stream",
     "text": [
      "  1  2  3  4  5  6  7  8  9\n",
      "  2  4  6  8 10 12 14 16 18\n",
      "  3  6  9 12 15 18 21 24 27\n",
      "  4  8 12 16 20 24 28 32 36\n",
      "  5 10 15 20 25 30 35 40 45\n",
      "  6 12 18 24 30 36 42 48 54\n",
      "  7 14 21 28 35 42 49 56 63\n",
      "  8 16 24 32 40 48 56 64 72\n",
      "  9 18 27 36 45 54 63 72 81\n"
     ]
    }
   ],
   "source": [
    "# 구구단 곱셈표 출력하기\n",
    "\n",
    "for i in range(1, 10):\n",
    "    for j in range(1, 10):\n",
    "        print(f'{i * j:3}', end='')\n",
    "    print() # 행 변경"
   ]
  },
  {
   "cell_type": "code",
   "execution_count": 15,
   "id": "c5549d28",
   "metadata": {},
   "outputs": [
    {
     "name": "stdout",
     "output_type": "stream",
     "text": [
      "짧은 변의 길이를 입력하세요: 5\n",
      "*\n",
      "**\n",
      "***\n",
      "****\n",
      "*****\n"
     ]
    }
   ],
   "source": [
    "# 직각 이등변 삼각형으로 출력하기\n",
    "# 왼쪽 아래가 직각인 이등변 삼각형으로 * 출력하기\n",
    "n = int(input('짧은 변의 길이를 입력하세요: '))\n",
    "\n",
    "for i in range(n):\n",
    "    for j in range(i + 1):\n",
    "        print('*', end='')\n",
    "    print()"
   ]
  },
  {
   "cell_type": "code",
   "execution_count": 16,
   "id": "2cb0b025",
   "metadata": {},
   "outputs": [
    {
     "name": "stdout",
     "output_type": "stream",
     "text": [
      "짧은 변의 길이를 입력하세요: 5\n",
      "    *\n",
      "   **\n",
      "  ***\n",
      " ****\n",
      "*****\n"
     ]
    }
   ],
   "source": [
    "# 오른쪽 아래가 직각인 이등변 삼각형으로 * 출력하기\n",
    "n = int(input('짧은 변의 길이를 입력하세요: '))\n",
    "\n",
    "for i in range(n):\n",
    "    for _ in range(n - i - 1):\n",
    "        print(' ', end='')\n",
    "    for _ in range(i + 1):\n",
    "        print('*', end='')\n",
    "    print()"
   ]
  }
 ],
 "metadata": {
  "kernelspec": {
   "display_name": "Python 3 (ipykernel)",
   "language": "python",
   "name": "python3"
  },
  "language_info": {
   "codemirror_mode": {
    "name": "ipython",
    "version": 3
   },
   "file_extension": ".py",
   "mimetype": "text/x-python",
   "name": "python",
   "nbconvert_exporter": "python",
   "pygments_lexer": "ipython3",
   "version": "3.9.7"
  }
 },
 "nbformat": 4,
 "nbformat_minor": 5
}
