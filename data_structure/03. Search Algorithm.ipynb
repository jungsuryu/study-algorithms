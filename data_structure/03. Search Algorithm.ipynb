{
 "cells": [
  {
   "cell_type": "markdown",
   "id": "645342fe",
   "metadata": {},
   "source": [
    "### 선형검색\n",
    "직선 모양(선형)으로 늘어선 배열에서 검색하는 경우 맨 앞부터 스캔하여 순서대로 검색\n",
    "```python\n",
    "i = 0  \n",
    "while True:  \n",
    "    if i == len(a):  \n",
    "        # 검색 실패  \n",
    "    if a[i] == key:  \n",
    "        # 검색 성공(찾은 원소의 인덱스는 i)  \n",
    "    i += 1\n",
    "```"
   ]
  },
  {
   "cell_type": "code",
   "execution_count": 4,
   "id": "755fc220",
   "metadata": {},
   "outputs": [
    {
     "name": "stdout",
     "output_type": "stream",
     "text": [
      "원소 수를 입력하세요: 7\n",
      "x[0]: 6\n",
      "x[1]: 4\n",
      "x[2]: 3\n",
      "x[3]: 2\n",
      "x[4]: 1\n",
      "x[5]: 2\n",
      "x[6]: 8\n",
      "검색할 값을 입력하세요: 2\n",
      "검색값은 x[3]에 있습니다\n"
     ]
    }
   ],
   "source": [
    "# while 문으로 작성한 선형 작성 알고리즘\n",
    "\n",
    "from typing import Any, Sequence\n",
    "\n",
    "def seq_search(a: Sequence, key: Any) -> int:\n",
    "    \"\"\"시퀀스 a에서 key와 값이 같은 원소를 선형 검색 (while문)\"\"\"\n",
    "    i = 0\n",
    "    \n",
    "    while True:\n",
    "        if i == len(a):\n",
    "            return -1\n",
    "        if a[i] == key:\n",
    "            return i\n",
    "        i += 1\n",
    "        \n",
    "\n",
    "if __name__ == '__main__':\n",
    "    num = int(input('원소 수를 입력하세요: '))\n",
    "    x = [None] * num\n",
    "    \n",
    "    for i in range(num):\n",
    "        x[i] = int(input(f'x[{i}]: '))\n",
    "        \n",
    "    ky = int(input('검색할 값을 입력하세요: '))\n",
    "    \n",
    "    idx = seq_search(x, ky)\n",
    "    \n",
    "    if idx == -1:\n",
    "        print('검색값을 갖는 원소가 존재하지 않습니다.')\n",
    "    else:\n",
    "        print(f'검색값은 x[{idx}]에 있습니다')"
   ]
  },
  {
   "cell_type": "markdown",
   "id": "b5ae8d2b",
   "metadata": {},
   "source": [
    "2는 x[3]과 x[5]에 모두 존재하지만 맨 처음에 찾은 원소의 인덱스 3을 반환함"
   ]
  },
  {
   "cell_type": "markdown",
   "id": "28f5ac97",
   "metadata": {},
   "source": [
    "같은 코드를 for 문으로 작성하면 코드가 더 짧고 간결해짐"
   ]
  },
  {
   "cell_type": "code",
   "execution_count": null,
   "id": "7cfc6766",
   "metadata": {},
   "outputs": [],
   "source": [
    "# for 문으로 작성한 선형 알고리즘\n",
    "\n",
    "from typing import Any, Sequence\n",
    "\n",
    "def seq_search(a: Sequence, key: Any) -> int:\n",
    "    \"\"\"시퀀스 a에서 key와 값이 같은 원소를 선형 검색 (for문)\"\"\"\n",
    "    for i in range(len(a)):\n",
    "        if a[i] == key:\n",
    "            return i    # 검색 성공 (인덱스 반환)\n",
    "    return -1    # 검색 실패 (-1 반환)"
   ]
  },
  {
   "cell_type": "markdown",
   "id": "ac428ceb",
   "metadata": {},
   "source": [
    "#### 다양한 자료형인 시퀀스에서 검색"
   ]
  },
  {
   "cell_type": "code",
   "execution_count": 5,
   "id": "f5ad2e17",
   "metadata": {},
   "outputs": [
    {
     "name": "stdout",
     "output_type": "stream",
     "text": [
      "실수를 검색합니다.\n",
      "주의: \"End\"를 입력하면 종료합니다.\n",
      "x[0]: 12.7\n",
      "x[1]: 3.14\n",
      "x[2]: 6.4\n",
      "x[3]: 7.2\n",
      "x[4]: End\n",
      "검색할 값을 입력하세요.: 6.4\n",
      "검색값은 x[2]에 있습니다.\n"
     ]
    }
   ],
   "source": [
    "# seq_search( 함수를 사용하여 실수 검색하기)\n",
    "\n",
    "print('실수를 검색합니다.')\n",
    "print('주의: \"End\"를 입력하면 종료합니다.')\n",
    "\n",
    "number = 0\n",
    "x = []  # 빈 리스트 x를 생성\n",
    "\n",
    "while True:\n",
    "    s = input(f'x[{number}]: ')\n",
    "    if s == 'End':\n",
    "        break\n",
    "    x.append(float(s))  # 배열 마지막에 원소를 추가\n",
    "    number += 1\n",
    "\n",
    "ky = float(input('검색할 값을 입력하세요.: '))  # 검색할 키 ky를 입력\n",
    "\n",
    "idx = seq_search(x, ky)  # ky와 같은 값의 원소를 x에서 검색\n",
    "if idx == -1:\n",
    "    print('검색값을 갖는 원소가 존재하지 않습니다.')\n",
    "else:\n",
    "    print(f'검색값은 x[{idx}]에 있습니다.')"
   ]
  },
  {
   "cell_type": "code",
   "execution_count": 6,
   "id": "fa4f2a2e",
   "metadata": {},
   "outputs": [
    {
     "name": "stdout",
     "output_type": "stream",
     "text": [
      "(4, 7, 5.6, 2, 3.14, 1)에서 5.6의 인덱스는 2입니다.\n",
      "string에서 \"n\"의 인덱스는 4입니다.\n",
      "['DTS', 'AAC', 'FLAC']에서 \"DTS\"의 인덱스는 0입니다.\n"
     ]
    }
   ],
   "source": [
    "# seq_search() 함수 사용하여 특정 인덱스 검색하기\n",
    "\n",
    "t = (4, 7, 5.6, 2, 3.14, 1)\n",
    "s = 'string'\n",
    "a = ['DTS', 'AAC', 'FLAC']\n",
    "\n",
    "print(f'{t}에서 5.6의 인덱스는 {seq_search(t, 5.6)}입니다.')\n",
    "print(f'{s}에서 \"n\"의 인덱스는 {seq_search(s, \"n\")}입니다.')\n",
    "print(f'{a}에서 \"DTS\"의 인덱스는 {seq_search(a, \"DTS\")}입니다.')"
   ]
  },
  {
   "cell_type": "markdown",
   "id": "7b420523",
   "metadata": {},
   "source": [
    "#### 보초법 (sentinel method)\n",
    "- 값이 원래 데이터에 존재하지 않아도 선형검색의 검색성공조건 성립\n",
    "- 검색실패조건 판단할 필요 사라짐\n",
    "- 반복 종료하는 판단 횟수 반으로 줄어듦"
   ]
  },
  {
   "cell_type": "code",
   "execution_count": 8,
   "id": "8a4cc00c",
   "metadata": {},
   "outputs": [
    {
     "name": "stdout",
     "output_type": "stream",
     "text": [
      "원소 수를 입력하세요: 7\n",
      "x[0]: 6\n",
      "x[1]: 4\n",
      "x[2]: 3\n",
      "x[3]: 2\n",
      "x[4]: 1\n",
      "x[5]: 2\n",
      "x[6]: 8\n",
      "검색할 값을 입력하세요: 2\n",
      "검색값은 x[3]에 있습니다\n"
     ]
    }
   ],
   "source": [
    "# 위 선형 알고리즘을 보초법으로 수정\n",
    "from typing import Any, Sequence\n",
    "import copy\n",
    "\n",
    "def seq_search(seq: Sequence, key: Any) -> int:\n",
    "    \"\"\"시퀀스 seq에서 key와 일치하는 원소를 선형 검색 (보초법)\"\"\"\n",
    "    a = copy.deepcopy(seq)    # seq를 깊은 복사\n",
    "    a.append(key)    # 보초 key 추가\n",
    "    \n",
    "    i = 0\n",
    "    while True:\n",
    "        if a[i] == key:\n",
    "            break\n",
    "        i += 1\n",
    "    return -1 if i == len(seq) else i    # 반복 종료 후 원소가 원래 데이터인지 보초인지 판단\n",
    "\n",
    "if __name__ == '__main__':\n",
    "    num = int(input('원소 수를 입력하세요: '))\n",
    "    x = [None] * num\n",
    "    \n",
    "    for i in range(num):\n",
    "        x[i] = int(input(f'x[{i}]: '))\n",
    "        \n",
    "    ky = int(input('검색할 값을 입력하세요: '))\n",
    "    \n",
    "    idx = seq_search(x, ky)\n",
    "    \n",
    "    if idx == -1:\n",
    "        print('검색값을 갖는 원소가 존재하지 않습니다.')\n",
    "    else:\n",
    "        print(f'검색값은 x[{idx}]에 있습니다')"
   ]
  },
  {
   "cell_type": "markdown",
   "id": "ffcf4f30",
   "metadata": {},
   "source": [
    "### 이진 검색 (binary search)\n",
    "- 이진 검색 알고리즘을 사용하려면 배열의 데이터가 정렬(sort)되어 있어야\n",
    "- 선형검색보다 빠르게 검색 가능\n",
    "- 주어진 배열의 중앙 원소에 주목해서 배열의 범위를 줄여나가며 검색 (반씩 좁혀짐)"
   ]
  },
  {
   "cell_type": "code",
   "execution_count": 9,
   "id": "7bac5ede",
   "metadata": {},
   "outputs": [
    {
     "name": "stdout",
     "output_type": "stream",
     "text": [
      "원소 수를 입력하세요: 7\n",
      "배열 데이터를 오름차순으로 입력하세요: \n",
      "x[0]: 1\n",
      "x[1]: 2\n",
      "x[2]: 3\n",
      "x[3]: 4\n",
      "x[4]: 5\n",
      "x[5]: 8\n",
      "x[6]: 9\n",
      "검색할 값을 입력하세요: 5\n",
      "검색값은 x[4]에 있습니다\n"
     ]
    }
   ],
   "source": [
    "# 이진 검색 알고리즘\n",
    "from typing import Any, Sequence\n",
    "\n",
    "def bin_search(a: Sequence, key: Any) -> int:\n",
    "    \"\"\"시퀀스 a에서 key와 일치하는 원소를 이진 검색\"\"\"\n",
    "    pl = 0              # 검색 범위 맨 앞 원소의 인덱스\n",
    "    pr = len(a) - 1     # 검색 범위 맨 끝 원소의 인덱스\n",
    "    \n",
    "    while True:\n",
    "        pc = (pl + pr) // 2    # 중앙 원소의 인덱스\n",
    "        if a[pc] == key:\n",
    "            return pc    # 검색 성공\n",
    "        elif a[pc] < key:\n",
    "            pl = pc + 1    # 검색 범위를 뒤쪽 절반으로 좁힘\n",
    "        else:\n",
    "            pr = pc - 1    # 검색 범위를 앞쪽 절반으로 좁힘\n",
    "        if pl > pr:\n",
    "            break\n",
    "    return -1    # 검색 실패\n",
    "\n",
    "\n",
    "if __name__ == '__main__':\n",
    "    num = int(input('원소 수를 입력하세요: '))\n",
    "    x = [None] * num\n",
    "    \n",
    "    print('배열 데이터를 오름차순으로 입력하세요: ')\n",
    "    x[0] = int(input('x[0]: '))\n",
    "    \n",
    "    for i in range(1, num):\n",
    "        while True:\n",
    "            x[i] = int(input(f'x[{i}]: '))\n",
    "            if x[i] >= x[i - 1]:\n",
    "                break\n",
    "                \n",
    "    ky = int(input('검색할 값을 입력하세요: '))\n",
    "    \n",
    "    idx = bin_search(x, ky)\n",
    "    \n",
    "    if idx == -1:\n",
    "        print('검색값을 갖는 원소가 존재하지 않습니다.')\n",
    "    else:\n",
    "        print(f'검색값은 x[{idx}]에 있습니다')"
   ]
  },
  {
   "cell_type": "code",
   "execution_count": 12,
   "id": "0319f8b3",
   "metadata": {},
   "outputs": [
    {
     "name": "stdout",
     "output_type": "stream",
     "text": [
      "원소 수를 입력하세요: 11\n",
      "배열 데이터를 오름차순으로 입력하세요: \n",
      "x[0]: 1\n",
      "x[1]: 2\n",
      "x[2]: 3\n",
      "x[3]: 4\n",
      "x[4]: 5\n",
      "x[5]: 6\n",
      "x[6]: 7\n",
      "x[7]: 8\n",
      "x[8]: 9\n",
      "x[9]: 10\n",
      "x[10]: 11\n",
      "검색할 값을 입력하세요: 8\n",
      "   |   0   1   2   3   4   5   6   7   8   9  10\n",
      "---+----------------------------------------------\n",
      "   | <-                    +                  ->\n",
      "  5|   1   2   3   4   5   6   7   8   9  10  11\n",
      "   |\n",
      "   |                         <-        +      ->\n",
      "  8|   1   2   3   4   5   6   7   8   9  10  11\n",
      "   |\n",
      "   |                         <+  ->\n",
      "  6|   1   2   3   4   5   6   7   8   9  10  11\n",
      "   |\n",
      "   |                             <+->\n",
      "  7|   1   2   3   4   5   6   7   8   9  10  11\n",
      "   |\n",
      "검색값은 x[7]에 있습니다\n"
     ]
    }
   ],
   "source": [
    "# 이진 검색 알고리즘의 실행 과정 출력\n",
    "from typing import Sequence, Any\n",
    "\n",
    "def bin_search(a: Sequence, key: Any) -> int:\n",
    "    \"\"\"시퀀스 a에서 key와 일치하는 원소를 이진 검색 (실행 과정을 출력)\"\"\"\n",
    "    pl = 0\n",
    "    pr = len(a) - 1\n",
    "    \n",
    "    print('   |', end='')\n",
    "    for i in range(len(a)):\n",
    "        print(f'{i:4}', end='')\n",
    "    print()\n",
    "    print('---+' + (4 * len(a) + 2) * '-')\n",
    "    \n",
    "    while True:\n",
    "        pc = (pl + pr) // 2\n",
    "        \n",
    "        print('   |', end='')\n",
    "        if pl != pc:\n",
    "            print((pl * 4 + 1) * ' ' + '<-' + ((pc - pl) * 4) * ' ' + '+', end='')\n",
    "        else:\n",
    "            print((pc * 4 + 1) * ' ' + '<+', end='')\n",
    "        if pc != pr:\n",
    "            print(((pr - pc) * 4 - 2) * ' ' + '->')\n",
    "        else:\n",
    "            print('->')\n",
    "        print(f'{pc:3}|', end='')\n",
    "        for i in range(len(a)):\n",
    "            print(f'{a[i]:4}', end='')\n",
    "        print('\\n   |')\n",
    "        \n",
    "        if a[pc] == key:\n",
    "            return pc    # 검색 성공\n",
    "        elif a[pc] < key:\n",
    "            pl = pc + 1    # 검색 범위를 뒤쪽 절반으로 좁힘\n",
    "        else:\n",
    "            pr = pc - 1    # 검색 범위를 앞쪽 절반으로 좁힘\n",
    "        if pl > pr:\n",
    "            break\n",
    "    return -1    # 검색 실패\n",
    "        \n",
    "if __name__ == '__main__':\n",
    "    num = int(input('원소 수를 입력하세요: '))\n",
    "    x = [None] * num\n",
    "    \n",
    "    print('배열 데이터를 오름차순으로 입력하세요: ')\n",
    "    x[0] = int(input('x[0]: '))\n",
    "    \n",
    "    for i in range(1, num):\n",
    "        while True:\n",
    "            x[i] = int(input(f'x[{i}]: '))\n",
    "            if x[i] >= x[i - 1]:\n",
    "                break\n",
    "                \n",
    "    ky = int(input('검색할 값을 입력하세요: '))\n",
    "    \n",
    "    idx = bin_search(x, ky)\n",
    "    \n",
    "    if idx == -1:\n",
    "        print('검색값을 갖는 원소가 존재하지 않습니다.')\n",
    "    else:\n",
    "        print(f'검색값은 x[{idx}]에 있습니다')"
   ]
  },
  {
   "cell_type": "markdown",
   "id": "93ddc75a",
   "metadata": {},
   "source": [
    "### 해시법\n",
    "- 검색과 더불어 데이터의 추가+삭제도 효율적으로 수행할 수 있음"
   ]
  },
  {
   "cell_type": "markdown",
   "id": "bc52b53b",
   "metadata": {},
   "source": [
    "#### 해시법 (hashing)\n",
    "- '데이터를 저장할 위치 = 인덱스'를 간단한 연산으로 구하는 것\n",
    "- 원소의 검색 뿐 아니라 추가-삭제도 효율적으로 수행"
   ]
  },
  {
   "cell_type": "code",
   "execution_count": null,
   "id": "9fca6f05",
   "metadata": {},
   "outputs": [],
   "source": []
  }
 ],
 "metadata": {
  "kernelspec": {
   "display_name": "Python 3 (ipykernel)",
   "language": "python",
   "name": "python3"
  },
  "language_info": {
   "codemirror_mode": {
    "name": "ipython",
    "version": 3
   },
   "file_extension": ".py",
   "mimetype": "text/x-python",
   "name": "python",
   "nbconvert_exporter": "python",
   "pygments_lexer": "ipython3",
   "version": "3.9.7"
  }
 },
 "nbformat": 4,
 "nbformat_minor": 5
}
